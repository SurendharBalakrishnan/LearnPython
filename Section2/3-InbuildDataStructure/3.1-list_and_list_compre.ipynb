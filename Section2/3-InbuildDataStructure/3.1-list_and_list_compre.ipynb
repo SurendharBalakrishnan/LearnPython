{
 "cells": [
  {
   "cell_type": "markdown",
   "id": "afa8b26a",
   "metadata": {},
   "source": [
    "### List"
   ]
  },
  {
   "cell_type": "code",
   "execution_count": null,
   "id": "5aa17abd",
   "metadata": {},
   "outputs": [
    {
     "name": "stdout",
     "output_type": "stream",
     "text": [
      "<class 'list'>\n"
     ]
    }
   ],
   "source": [
    "## List are ordered collections of items.\n",
    "# Lists are mutable, meaning you can change their content.\n",
    "# You can create a list using square brackets [].\n",
    "# You can also create a list using the list() constructor.\n",
    "# Lists can contain items of different types, including other lists.\n",
    "# You can access list items using their index, which starts at 0.\n",
    "\n",
    "list =[] ## in order to create an empty list\n",
    "print(type(list))  # <class 'list'>"
   ]
  },
  {
   "cell_type": "code",
   "execution_count": 4,
   "id": "3cbdfccc",
   "metadata": {},
   "outputs": [
    {
     "name": "stdout",
     "output_type": "stream",
     "text": [
      "['Alice', 'Bob', 'Charlie', 'Surendhar', 'Jacob']\n"
     ]
    }
   ],
   "source": [
    "names = ['Alice', 'Bob', 'Charlie' , 'Surendhar', 'Jacob']  # list of strings\n",
    "print(names)  # ['Alice', 'Bob', 'Charlie', 'Surendhar', 'Jacob']\n"
   ]
  },
  {
   "cell_type": "code",
   "execution_count": 6,
   "id": "f346f5d6",
   "metadata": {},
   "outputs": [
    {
     "name": "stdout",
     "output_type": "stream",
     "text": [
      "[1, 'Surendhar', 3.14, True, None]\n"
     ]
    }
   ],
   "source": [
    "# mixed # list\n",
    "mixed_list = [1, 'Surendhar', 3.14, True, None]  # list with mixed types\n",
    "print(mixed_list)  # [1, 'Surendhar', 3.14, True, None]"
   ]
  },
  {
   "cell_type": "code",
   "execution_count": 7,
   "id": "768c39bb",
   "metadata": {},
   "outputs": [
    {
     "name": "stdout",
     "output_type": "stream",
     "text": [
      "apple\n",
      "kiwi\n"
     ]
    }
   ],
   "source": [
    "### Accessing List Items\n",
    "# You can access list items using their index.\n",
    "\n",
    "fruits = ['apple', 'banana', 'cherry', 'kiwi', 'mango', 'orange', 'promogranate']\n",
    "print(fruits[0])  # 'apple' (first item)\n",
    "print(fruits[3])  # 'kiwi' (fourth item)\n",
    "\n"
   ]
  },
  {
   "cell_type": "code",
   "execution_count": 8,
   "id": "24998c27",
   "metadata": {},
   "outputs": [
    {
     "name": "stdout",
     "output_type": "stream",
     "text": [
      "promogranate\n"
     ]
    }
   ],
   "source": [
    "## negative indexing\n",
    "print(fruits[-1])  # 'promogranate' (last item)"
   ]
  },
  {
   "cell_type": "code",
   "execution_count": 11,
   "id": "d8c1c062",
   "metadata": {},
   "outputs": [
    {
     "name": "stdout",
     "output_type": "stream",
     "text": [
      "['banana', 'cherry', 'kiwi', 'mango']\n"
     ]
    }
   ],
   "source": [
    "## requirement from 1st to 5th item\n",
    "print(fruits[1:5])  # ['banana', 'cherry', 'kiwi', 'mango'] (from 1st to 5th item)"
   ]
  },
  {
   "cell_type": "code",
   "execution_count": 12,
   "id": "5020c349",
   "metadata": {},
   "outputs": [
    {
     "name": "stdout",
     "output_type": "stream",
     "text": [
      "['cherry', 'kiwi', 'mango', 'orange', 'promogranate']\n",
      "['apple', 'banana', 'cherry']\n"
     ]
    }
   ],
   "source": [
    "print(fruits[2:])  # ['cherry', 'kiwi', 'mango', 'orange', 'promogranate'] (from 2nd item to the end)\n",
    "print(fruits[:3])  # ['apple', 'banana', 'cherry'] (from start to 3rd item)"
   ]
  },
  {
   "cell_type": "code",
   "execution_count": null,
   "id": "f9a7bedf",
   "metadata": {},
   "outputs": [
    {
     "name": "stdout",
     "output_type": "stream",
     "text": [
      "[]\n"
     ]
    }
   ],
   "source": [
    "## \n",
    "print(fruits[-1:-3])"
   ]
  },
  {
   "cell_type": "code",
   "execution_count": 14,
   "id": "76ee4ed6",
   "metadata": {},
   "outputs": [
    {
     "name": "stdout",
     "output_type": "stream",
     "text": [
      "['apple', 'blueberry', 'cherry', 'kiwi', 'mango', 'orange', 'promogranate']\n"
     ]
    }
   ],
   "source": [
    "## Modifying the List Elemnt\n",
    "\n",
    "fruits[1] = 'blueberry'  # change 'banana' to 'blueberry'\n",
    "print(fruits)  # ['apple', 'blueberry', 'cherry', 'kiwi', 'mango', 'orange', 'promogranate']"
   ]
  },
  {
   "cell_type": "code",
   "execution_count": 15,
   "id": "8b26309e",
   "metadata": {},
   "outputs": [
    {
     "name": "stdout",
     "output_type": "stream",
     "text": [
      "['apple', 'w', 'a', 't', 'e', 'r', 'm', 'e', 'l', 'o', 'n']\n"
     ]
    }
   ],
   "source": [
    "fruits[1:] = \"watermelon\"  # change from 1st item to the end to 'watermelon'\n",
    "print(fruits)  # ['apple', 'w', 'a', 't', 'e', 'r', 'm', 'e', 'l', 'o', 'n']"
   ]
  },
  {
   "cell_type": "code",
   "execution_count": 18,
   "id": "8f3eccad",
   "metadata": {},
   "outputs": [
    {
     "name": "stdout",
     "output_type": "stream",
     "text": [
      "['apple', 'banana', 'cherry', 'kiwi', 'mango', 'orange', 'promogranate', 'grape']\n"
     ]
    }
   ],
   "source": [
    "fruits = ['apple', 'banana', 'cherry', 'kiwi', 'mango', 'orange', 'promogranate']\n",
    "\n",
    "## List Methods\n",
    "fruits.append('grape')  # add 'grape' to the end of the list\n",
    "print(fruits)  # ['apple', 'banana', 'cherry', 'kiwi', 'mango', 'orange', 'promogranate', 'grape']\n"
   ]
  },
  {
   "cell_type": "code",
   "execution_count": null,
   "id": "dc694ed1",
   "metadata": {},
   "outputs": [
    {
     "name": "stdout",
     "output_type": "stream",
     "text": [
      "['apple', 'watermelon', 'watermelon', 'banana', 'cherry', 'kiwi', 'mango', 'orange', 'promogranate', 'grape']\n"
     ]
    }
   ],
   "source": [
    "fruits.insert(1,\"watermelon\")  # insert 'watermelon' at index 1\n",
    "print(fruits)\n"
   ]
  },
  {
   "cell_type": "code",
   "execution_count": 22,
   "id": "0e26af4f",
   "metadata": {},
   "outputs": [
    {
     "name": "stdout",
     "output_type": "stream",
     "text": [
      "['apple', 'watermelon', 'cherry', 'kiwi', 'mango', 'orange', 'promogranate', 'grape']\n"
     ]
    }
   ],
   "source": [
    "fruits.remove('watermelon')  # remove 'banana' from the list\n",
    "print(fruits)  # ['apple', 'watermelon', 'cherry', 'kiwi', 'mango', 'orange', 'promogranate', 'grape']"
   ]
  },
  {
   "cell_type": "code",
   "execution_count": 23,
   "id": "37d0f0ab",
   "metadata": {},
   "outputs": [
    {
     "name": "stdout",
     "output_type": "stream",
     "text": [
      "grape\n",
      "['apple', 'watermelon', 'cherry', 'kiwi', 'mango', 'orange', 'promogranate']\n"
     ]
    }
   ],
   "source": [
    "# remove and return the last item\n",
    "popped_fruit = fruits.pop()  # remove the last item\n",
    "print(popped_fruit)  # 'grape'\n",
    "print(fruits)  # ['apple', 'watermelon', 'cherry', 'kiwi', 'mango', 'orange', 'promogranate']"
   ]
  },
  {
   "cell_type": "code",
   "execution_count": 24,
   "id": "410527df",
   "metadata": {},
   "outputs": [
    {
     "name": "stdout",
     "output_type": "stream",
     "text": [
      "2\n"
     ]
    }
   ],
   "source": [
    "## FIND THE INDEX OF AN ITEM\n",
    "index_of_cherry = fruits.index('cherry')  # find the index of 'cherry'\n",
    "print(index_of_cherry)  # 2 (index of 'cherry')"
   ]
  },
  {
   "cell_type": "code",
   "execution_count": null,
   "id": "a982e819",
   "metadata": {},
   "outputs": [
    {
     "name": "stdout",
     "output_type": "stream",
     "text": [
      "['apple', 'watermelon', 'pineapple', 'pineapple', 'cherry', 'kiwi', 'mango', 'orange', 'promogranate']\n",
      "1\n"
     ]
    }
   ],
   "source": [
    "fruits.insert(2, 'pineapple')  # insert 'pineapple' at index 2\n",
    "print(fruits)  # ['apple', 'banana', 'pineapple', 'cherry', 'kiwi', 'mango', 'orange', 'promogranate', 'grape']\n",
    "print(fruits.count('kiwi'))  # count the number of 'kiwi' in the list (1)\n"
   ]
  },
  {
   "cell_type": "code",
   "execution_count": 28,
   "id": "49ec1e44",
   "metadata": {},
   "outputs": [
    {
     "name": "stdout",
     "output_type": "stream",
     "text": [
      "['apple', 'cherry', 'kiwi', 'mango', 'orange', 'pineapple', 'pineapple', 'promogranate', 'watermelon']\n",
      "['watermelon', 'promogranate', 'pineapple', 'pineapple', 'orange', 'mango', 'kiwi', 'cherry', 'apple']\n"
     ]
    }
   ],
   "source": [
    "fruits.sort()  # sort the list in ascending order\n",
    "print(fruits)  # ['apple', 'banana', 'cherry', 'grape', 'kiwi', 'mango', 'orange', 'pineapple', 'promogranate']\n",
    "fruits.reverse()  # reverse the order of the list\n",
    "print(fruits)  # ['promogranate', 'orange', 'mango', 'kiwi', 'grape', 'cherry', 'banana', 'apple']"
   ]
  },
  {
   "cell_type": "code",
   "execution_count": 29,
   "id": "2aaefdf9",
   "metadata": {},
   "outputs": [
    {
     "name": "stdout",
     "output_type": "stream",
     "text": [
      "[]\n"
     ]
    }
   ],
   "source": [
    "fruits.clear()  # clear the list\n",
    "print(fruits)  # [] (empty list)"
   ]
  },
  {
   "cell_type": "code",
   "execution_count": 34,
   "id": "e840bb56",
   "metadata": {},
   "outputs": [
    {
     "name": "stdout",
     "output_type": "stream",
     "text": [
      "[3, 4, 5]\n",
      "[1, 2, 3]\n",
      "[6, 7, 8, 9, 10]\n",
      "[8, 9, 10]\n",
      "[1, 2, 3, 4, 5, 6, 7, 8]\n",
      "[1, 3, 5, 7, 9]\n"
     ]
    }
   ],
   "source": [
    "## Slicing Lists\n",
    "# Slicing allows you to create a new list from a portion of an existing list.\n",
    "numbers = [1, 2, 3, 4, 5, 6, 7, 8, 9, 10]\n",
    "print(numbers[2:5])  # [3, 4, 5] (from index 2 to index 4)\n",
    "print(numbers[:3])  # [1, 2, 3] (from start to index 2)\n",
    "print(numbers[5:])  # [6, 7, 8, 9, 10] (from index 5 to the end)\n",
    "print(numbers[-3:])  # [8, 9, 10] (last three items) \n",
    "print(numbers[:-2]) \n",
    "print(numbers[::2])  # [1, 3, 5, 7, 9] (every second item)   "
   ]
  },
  {
   "cell_type": "code",
   "execution_count": 36,
   "id": "43dfd5df",
   "metadata": {},
   "outputs": [
    {
     "name": "stdout",
     "output_type": "stream",
     "text": [
      "apple\n",
      "banana\n",
      "cherry\n",
      "kiwi\n",
      "mango\n",
      "orange\n",
      "promogranate\n"
     ]
    }
   ],
   "source": [
    "##Iterating over List\n",
    "\n",
    "fruits = ['apple', 'banana', 'cherry', 'kiwi', 'mango', 'orange', 'promogranate']\n",
    "\n",
    "for fruit in fruits:\n",
    "    print(fruit)  # prints each fruit in the list"
   ]
  },
  {
   "cell_type": "code",
   "execution_count": 37,
   "id": "189e3e84",
   "metadata": {},
   "outputs": [
    {
     "name": "stdout",
     "output_type": "stream",
     "text": [
      "Index 0: apple\n",
      "Index 1: banana\n",
      "Index 2: cherry\n",
      "Index 3: kiwi\n",
      "Index 4: mango\n",
      "Index 5: orange\n",
      "Index 6: promogranate\n"
     ]
    }
   ],
   "source": [
    "## iterating with index\n",
    "\n",
    "for index, fruit in enumerate(fruits):\n",
    "    print(f\"Index {index}: {fruit}\")  # prints each fruit with its index"
   ]
  },
  {
   "cell_type": "code",
   "execution_count": 39,
   "id": "484ea6ad",
   "metadata": {},
   "outputs": [
    {
     "name": "stdout",
     "output_type": "stream",
     "text": [
      "0\n",
      "[0]\n",
      "1\n",
      "[0, 1]\n",
      "2\n",
      "[0, 1, 4]\n",
      "3\n",
      "[0, 1, 4, 9]\n",
      "4\n",
      "[0, 1, 4, 9, 16]\n",
      "5\n",
      "[0, 1, 4, 9, 16, 25]\n",
      "6\n",
      "[0, 1, 4, 9, 16, 25, 36]\n",
      "7\n",
      "[0, 1, 4, 9, 16, 25, 36, 49]\n",
      "8\n",
      "[0, 1, 4, 9, 16, 25, 36, 49, 64]\n",
      "9\n",
      "[0, 1, 4, 9, 16, 25, 36, 49, 64, 81]\n"
     ]
    }
   ],
   "source": [
    "## List Comprehensions\n",
    "lst =  []\n",
    "for x in range(10):\n",
    "    print(x)  # prints numbers from 0 to 9\n",
    "    lst.append(x**2)  # appends each number to the list\n",
    "    print(lst)  # prints the list after each append"
   ]
  },
  {
   "cell_type": "code",
   "execution_count": 40,
   "id": "dd14b540",
   "metadata": {},
   "outputs": [
    {
     "data": {
      "text/plain": [
       "[0, 1, 4, 9, 16, 25, 36, 49, 64, 81]"
      ]
     },
     "execution_count": 40,
     "metadata": {},
     "output_type": "execute_result"
    }
   ],
   "source": [
    "[x**2 for x in range(10)]  # list comprehension to create a list of squares"
   ]
  },
  {
   "cell_type": "markdown",
   "id": "f2ca06ba",
   "metadata": {},
   "source": [
    "#### List Comprehension\n",
    "\n",
    "Basics syntax [ expression for item in iterable]\n",
    "\n",
    "with conditional logic  [expression for item if condition]\n",
    "\n",
    "Nested List Comprehension [expression for item1 in iterable1 for item2 in iterable2]\n"
   ]
  },
  {
   "cell_type": "code",
   "execution_count": 43,
   "id": "51456ea7",
   "metadata": {},
   "outputs": [
    {
     "name": "stdout",
     "output_type": "stream",
     "text": [
      "[0, 1, 4, 9, 16, 25, 36, 49, 64, 81]\n"
     ]
    }
   ],
   "source": [
    "## Basic List Complrehension\n",
    "\n",
    "square= [x**2 for x in range(10)]  # list comprehension to create a list of squares\n",
    "print(square)  # prints [0, 1, 4, 9, 16, 25, 36, 49, 64, 81]"
   ]
  },
  {
   "cell_type": "code",
   "execution_count": 44,
   "id": "010dc761",
   "metadata": {},
   "outputs": [
    {
     "name": "stdout",
     "output_type": "stream",
     "text": [
      "0\n",
      "2\n",
      "4\n",
      "6\n",
      "8\n"
     ]
    }
   ],
   "source": [
    "## List Comprehension with condition\n",
    "\n",
    "for i in range(10):\n",
    "    if i % 2 == 0:\n",
    "        print(i)  # prints even numbers from 0 to 9"
   ]
  },
  {
   "cell_type": "code",
   "execution_count": 46,
   "id": "41ffe520",
   "metadata": {},
   "outputs": [
    {
     "name": "stdout",
     "output_type": "stream",
     "text": [
      "[0, 2, 4, 6, 8]\n"
     ]
    }
   ],
   "source": [
    "even_numbers = [num for num in range(10) if num %2==0]  # list comprehension to create a list of even numbers\n",
    "print(even_numbers)  # prints [0, 2, 4, 6, 8]"
   ]
  },
  {
   "cell_type": "code",
   "execution_count": 48,
   "id": "1040a8ee",
   "metadata": {},
   "outputs": [
    {
     "name": "stdout",
     "output_type": "stream",
     "text": [
      "[[1, 'a'], [1, 'b'], [1, 'c'], [1, 'd'], [2, 'a'], [2, 'b'], [2, 'c'], [2, 'd'], [3, 'a'], [3, 'b'], [3, 'c'], [3, 'd'], [4, 'a'], [4, 'b'], [4, 'c'], [4, 'd']]\n"
     ]
    }
   ],
   "source": [
    "## Nested Lists Comprehension\n",
    "\n",
    "lst1=[1,2,3,4]\n",
    "lst2=['a','b','c','d']\n",
    "\n",
    "pair = [[i,j] for i in lst1 for j in lst2]  # nested list comprehension to create pairs of elements from lst1 and lst2\n",
    "print(pair)  # prints [[1, 'a'], [1, 'b'], [1, 'c'], [1, 'd'], [2, 'a'], [2, 'b'], [2, 'c'], [2, 'd'], [3, 'a'], [3, 'b'], [3, 'c'], [3, 'd'], [4, 'a'], [4, 'b'], [4, 'c'], [4, 'd']]\n",
    "## List Comprehension with Nested Lists"
   ]
  },
  {
   "cell_type": "code",
   "execution_count": 51,
   "id": "a9ebbe9a",
   "metadata": {},
   "outputs": [
    {
     "name": "stdout",
     "output_type": "stream",
     "text": [
      "['HELLO', 'WORLD', 'PYTHON', 'LIST', 'COMPREHENSION']\n",
      "[5, 5, 6, 4, 13]\n"
     ]
    }
   ],
   "source": [
    "## lIST cOMPREHENSION WITH FUNCTION CALLS\n",
    "\n",
    "words = ['hello', 'world', 'python', 'list', 'comprehension']\n",
    "capitalized_words = [word.upper() for word in words]  # list comprehension to capitalize each word\n",
    "print(capitalized_words)  # prints ['HELLO', 'WORLD', 'PYTHON', 'LIST', 'COMPREHENSION']\n",
    "\n",
    "## Length of List\n",
    "lengths = [len(word) for word in words]  # list comprehension to get the length of each word\n",
    "print(lengths)  # prints [5, 5, 6, 4, 13]\n"
   ]
  },
  {
   "cell_type": "code",
   "execution_count": 52,
   "id": "abbf8b66",
   "metadata": {},
   "outputs": [
    {
     "name": "stdout",
     "output_type": "stream",
     "text": [
      "[1, 4, 3, 16, 5]\n"
     ]
    }
   ],
   "source": [
    "### else block in List Comprehension\n",
    "numbers = [1, 2, 3, 4, 5]\n",
    "squared_numbers = [x**2 if x % 2 == 0 else x for x in numbers]  # square even numbers, keep odd numbers unchanged\n",
    "print(squared_numbers)  # prints [1, 4, 3, 16, 5] (squares even numbers, keeps odd numbers unchanged)"
   ]
  },
  {
   "cell_type": "markdown",
   "id": "8244b49f",
   "metadata": {},
   "source": [
    "#### Conclusion\n",
    "List comprehensions are a powerful and concise way to create lists in Python. They are syntactically compact and can replace more verbose looping constructs. Understanding the syntax of list comprehensions will help you write cleaner and more efficient Python code."
   ]
  },
  {
   "cell_type": "code",
   "execution_count": null,
   "id": "71b6a7ba",
   "metadata": {},
   "outputs": [],
   "source": []
  }
 ],
 "metadata": {
  "kernelspec": {
   "display_name": "Python 3",
   "language": "python",
   "name": "python3"
  },
  "language_info": {
   "codemirror_mode": {
    "name": "ipython",
    "version": 3
   },
   "file_extension": ".py",
   "mimetype": "text/x-python",
   "name": "python",
   "nbconvert_exporter": "python",
   "pygments_lexer": "ipython3",
   "version": "3.10.0"
  }
 },
 "nbformat": 4,
 "nbformat_minor": 5
}
