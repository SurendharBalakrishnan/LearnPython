{
 "cells": [
  {
   "cell_type": "markdown",
   "id": "c953dd89",
   "metadata": {},
   "source": [
    "### Loops"
   ]
  },
  {
   "cell_type": "markdown",
   "id": "bd6ff335",
   "metadata": {},
   "source": [
    "## FOR Loop"
   ]
  },
  {
   "cell_type": "code",
   "execution_count": 8,
   "id": "94c6a3ca",
   "metadata": {},
   "outputs": [
    {
     "name": "stdout",
     "output_type": "stream",
     "text": [
      "1\n",
      "3\n",
      "5\n",
      "7\n",
      "9\n"
     ]
    }
   ],
   "source": [
    "## for loop and range example\n",
    "# This script demonstrates a simple for loop using the range function\n",
    "\n",
    "# for i in range(5):\n",
    "#     print(i)\n",
    "\n",
    "# for i in range(1,5):\n",
    "#     print(i)\n",
    "\n",
    "for x in range(1, 10, 2): # start at 1, end before 10, step by 2\n",
    "    # This will print odd numbers from 1 to 9\n",
    "    print(x)   \n",
    "    "
   ]
  },
  {
   "cell_type": "code",
   "execution_count": 10,
   "id": "cd080a0e",
   "metadata": {},
   "outputs": [
    {
     "name": "stdout",
     "output_type": "stream",
     "text": [
      "10\n",
      "8\n",
      "6\n",
      "4\n",
      "2\n"
     ]
    }
   ],
   "source": [
    "# for x in range ( 10, 1 , -1): # start at 10, end before 1, step by -1\n",
    "#     # This will print numbers from 10 to 2 in reverse order\n",
    "#     print(x)\n",
    "\n",
    "for x in range ( 10, 1 , -2): # start at 10, end before 1, step by -1\n",
    "    # This will print numbers from 10 to 2 in reverse order\n",
    "    print(x)"
   ]
  },
  {
   "cell_type": "code",
   "execution_count": 11,
   "id": "0343065a",
   "metadata": {},
   "outputs": [
    {
     "name": "stdout",
     "output_type": "stream",
     "text": [
      " \n",
      "s\n",
      "u\n",
      "r\n",
      "e\n",
      "n\n",
      "d\n",
      "h\n",
      "a\n",
      "r\n",
      " \n",
      "k\n",
      "r\n",
      "i\n",
      "s\n",
      "h\n",
      "n\n",
      "a\n",
      "n\n"
     ]
    }
   ],
   "source": [
    "## String\n",
    "\n",
    "str = \" surendhar krishnan\"\n",
    "\n",
    "for i in str:\n",
    "    # This will print each character in the string\n",
    "    print(i)"
   ]
  },
  {
   "cell_type": "code",
   "execution_count": 12,
   "id": "d6c8a125",
   "metadata": {},
   "outputs": [
    {
     "name": "stdout",
     "output_type": "stream",
     "text": [
      "Count is: 0\n",
      "Count is: 1\n",
      "Count is: 2\n",
      "Count is: 3\n",
      "Count is: 4\n"
     ]
    }
   ],
   "source": [
    "## While loop example\n",
    "\n",
    "## the while loop will run until the condition is false. as long as the condition is true, the loop will continue to run\n",
    "count = 0\n",
    "while count < 5:\n",
    "    print(\"Count is:\", count)\n",
    "    count += 1  # Increment count by 1"
   ]
  },
  {
   "cell_type": "code",
   "execution_count": 15,
   "id": "ee34d646",
   "metadata": {},
   "outputs": [
    {
     "name": "stdout",
     "output_type": "stream",
     "text": [
      "Count is: 0\n"
     ]
    }
   ],
   "source": [
    "count = 0\n",
    "while count %2==0:\n",
    "    print(\"Count is:\", count)\n",
    "    count += 1  # Increment count by 1\n",
    "    if count == 5:\n",
    "        break  # Exit the loop when count reaches 5"
   ]
  },
  {
   "cell_type": "code",
   "execution_count": 17,
   "id": "18bbf49f",
   "metadata": {},
   "outputs": [
    {
     "name": "stdout",
     "output_type": "stream",
     "text": [
      "0\n",
      "1\n",
      "2\n",
      "3\n",
      "4\n",
      "Breaking the loop at i = 5\n",
      "Skipping even number: 0\n",
      "Odd number: 1\n",
      "Skipping even number: 2\n",
      "Odd number: 3\n",
      "Skipping even number: 4\n",
      "Odd number: 5\n",
      "Skipping even number: 6\n",
      "Odd number: 7\n",
      "Skipping even number: 8\n",
      "Odd number: 9\n"
     ]
    }
   ],
   "source": [
    "## Loop Control Statements\n",
    "# break: Exit the loop\n",
    "# continue: Skip the current iteration and continue with the next one\n",
    "\n",
    "# break statement\n",
    "\n",
    "for i in range(10):\n",
    "    if i == 5:\n",
    "        print(\"Breaking the loop at i =\", i)\n",
    "        break  # Exit the loop when i is 5\n",
    "    print(i)\n",
    "\n",
    "# continue statement\n",
    "\n",
    "for i in range(10):\n",
    "    if i % 2 == 0:\n",
    "        print(\"Skipping even number:\", i)\n",
    "        continue  # Skip the rest of the loop for even numbers\n",
    "    print(\"Odd number:\", i)  # This will only print odd numbers    \n"
   ]
  },
  {
   "cell_type": "code",
   "execution_count": 21,
   "id": "b0129553",
   "metadata": {},
   "outputs": [
    {
     "name": "stdout",
     "output_type": "stream",
     "text": [
      "0\n",
      "1\n",
      "2\n",
      "3\n",
      "4\n"
     ]
    }
   ],
   "source": [
    "## Pass Statement \n",
    "# The pass statement is a null operation; it does nothing when executed.\n",
    "\n",
    "for i in range(5):\n",
    "    if i == 3:\n",
    "        # print(\" The number is\", i)\n",
    "        pass  # Placeholder for future code\n",
    "    print( i)  # This will still print all numbers from 0 to 4"
   ]
  },
  {
   "cell_type": "code",
   "execution_count": 23,
   "id": "ed21ec66",
   "metadata": {},
   "outputs": [
    {
     "name": "stdout",
     "output_type": "stream",
     "text": [
      "Outer loop iteration: {0} Inner loop iteration: {0}\n",
      "Outer loop iteration: {0} Inner loop iteration: {1}\n",
      "Outer loop iteration: {0} Inner loop iteration: {2}\n",
      "Outer loop iteration: {1} Inner loop iteration: {0}\n",
      "Outer loop iteration: {1} Inner loop iteration: {1}\n",
      "Outer loop iteration: {1} Inner loop iteration: {2}\n",
      "Outer loop iteration: {2} Inner loop iteration: {0}\n",
      "Outer loop iteration: {2} Inner loop iteration: {1}\n",
      "Outer loop iteration: {2} Inner loop iteration: {2}\n",
      "Outer loop iteration: {3} Inner loop iteration: {0}\n",
      "Outer loop iteration: {3} Inner loop iteration: {1}\n",
      "Outer loop iteration: {3} Inner loop iteration: {2}\n"
     ]
    }
   ],
   "source": [
    "## Nested Loops\n",
    "# Nested loops are loops inside another loop. The inner loop runs for each iteration of the outer loop.\n",
    "\n",
    "for i in range(4):  # Outer loop\n",
    "    for j in range(3):  # Inner loop\n",
    "        print(f\"Outer loop iteration:\", {i}, \"Inner loop iteration:\", {j})"
   ]
  },
  {
   "cell_type": "code",
   "execution_count": null,
   "id": "f859f45d",
   "metadata": {},
   "outputs": [
    {
     "name": "stdout",
     "output_type": "stream",
     "text": [
      "Sum of first 10 natural numbers using while loop is: 120\n"
     ]
    }
   ],
   "source": [
    "# Examples \n",
    "# Calculate the sum of first N Natural number using a while loop and for loop\n",
    "\n",
    "#while loop\n",
    "\n",
    "n = 15 #natural number\n",
    "sum = 0 # Initialize sum to 0\n",
    "count = 1 # Start count at 1\n",
    "\n",
    "while count <=n:\n",
    "    sum += count  # Add count to sum\n",
    "    count += 1  # Increment count by 1\n",
    "print(\"Sum of first 10 natural numbers using while loop is:\", sum)    \n",
    "\n",
    "\n",
    "\n"
   ]
  },
  {
   "cell_type": "code",
   "execution_count": 26,
   "id": "acac6e29",
   "metadata": {},
   "outputs": [
    {
     "name": "stdout",
     "output_type": "stream",
     "text": [
      "Sum of first 10 natural numbers using for loop is: 55\n"
     ]
    }
   ],
   "source": [
    "#for loop\n",
    "\n",
    "n = 15 #natural number\n",
    "sum = 0 # Initialize sum to 0\n",
    "count = 1 # Start count at 1\n",
    "\n",
    "for i in range(11):\n",
    "    sum = sum+i\n",
    "print(\"Sum of first 10 natural numbers using for loop is:\", sum)    "
   ]
  },
  {
   "cell_type": "code",
   "execution_count": null,
   "id": "a397003c",
   "metadata": {},
   "outputs": [
    {
     "name": "stdout",
     "output_type": "stream",
     "text": [
      "2 is a prime number\n",
      "3 is a prime number\n",
      "5 is a prime number\n",
      "7 is a prime number\n",
      "11 is a prime number\n",
      "13 is a prime number\n",
      "17 is a prime number\n",
      "19 is a prime number\n",
      "23 is a prime number\n",
      "29 is a prime number\n",
      "31 is a prime number\n",
      "37 is a prime number\n",
      "41 is a prime number\n",
      "43 is a prime number\n",
      "47 is a prime number\n",
      "53 is a prime number\n",
      "59 is a prime number\n",
      "61 is a prime number\n",
      "67 is a prime number\n",
      "71 is a prime number\n",
      "73 is a prime number\n",
      "79 is a prime number\n",
      "83 is a prime number\n",
      "89 is a prime number\n",
      "97 is a prime number\n"
     ]
    }
   ],
   "source": [
    "# Display the Prime numbers from 1 to 100 using a for loop\n",
    "\n",
    "for num in range(1,101):\n",
    "    if num > 1:\n",
    "        for i in range(2,num):\n",
    "            if num % i==0:\n",
    "                break # if it breaks, it means num is not a prime number and it will go out the for loop\n",
    "        else:\n",
    "            print(num, \"is a prime number\") \n",
    "\n",
    "# Along with the for loop, we can also use the else # statement with the for loop.\n",
    "# The else block will execute after the for loop completes normally (i.e., not interrupted by a break statement).\n"
   ]
  },
  {
   "cell_type": "code",
   "execution_count": null,
   "id": "74ff8bf1",
   "metadata": {},
   "outputs": [],
   "source": []
  }
 ],
 "metadata": {
  "kernelspec": {
   "display_name": "Python 3",
   "language": "python",
   "name": "python3"
  },
  "language_info": {
   "codemirror_mode": {
    "name": "ipython",
    "version": 3
   },
   "file_extension": ".py",
   "mimetype": "text/x-python",
   "name": "python",
   "nbconvert_exporter": "python",
   "pygments_lexer": "ipython3",
   "version": "3.12.9"
  }
 },
 "nbformat": 4,
 "nbformat_minor": 5
}
