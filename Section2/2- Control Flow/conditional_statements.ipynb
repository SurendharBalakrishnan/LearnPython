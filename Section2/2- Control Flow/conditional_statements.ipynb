{
 "cells": [
  {
   "cell_type": "code",
   "execution_count": null,
   "id": "17167cf2",
   "metadata": {},
   "outputs": [
    {
     "name": "stdout",
     "output_type": "stream",
     "text": [
      "You are an adult.\n"
     ]
    }
   ],
   "source": [
    "## if statement  - it evaluates a condition and executes a block of code if the condition is true.\n",
    "# Example of an if statement\n",
    "\n",
    "age = 20\n",
    "if age >= 18:\n",
    "    print(\"You are an adult.\")\n",
    "else:\n",
    "    print(\"You are a minor.\")    "
   ]
  },
  {
   "cell_type": "code",
   "execution_count": 2,
   "id": "aa1a6249",
   "metadata": {},
   "outputs": [
    {
     "data": {
      "text/plain": [
       "True"
      ]
     },
     "execution_count": 2,
     "metadata": {},
     "output_type": "execute_result"
    }
   ],
   "source": [
    "age >= 18"
   ]
  },
  {
   "cell_type": "code",
   "execution_count": 3,
   "id": "e232ab24",
   "metadata": {},
   "outputs": [
    {
     "name": "stdout",
     "output_type": "stream",
     "text": [
      "You are not eligible for voting.\n"
     ]
    }
   ],
   "source": [
    "# else \n",
    "# The else statement is used to execute a block of code when the condition in the if statement is false.\n",
    "\n",
    "age = 16\n",
    "if age >= 18:\n",
    "    print(\"You are eligible for voting.\")\n",
    "else:\n",
    "    print(\"You are not eligible for voting.\")\n"
   ]
  },
  {
   "cell_type": "code",
   "execution_count": 6,
   "id": "9db31020",
   "metadata": {},
   "outputs": [
    {
     "name": "stdout",
     "output_type": "stream",
     "text": [
      "You are a child.\n"
     ]
    }
   ],
   "source": [
    "## elif statement\n",
    "# The elif statement allows you to check multiple conditions in a sequence.\n",
    "\n",
    "age = 9\n",
    "\n",
    "if age < 13:\n",
    "    print(\"You are a child.\")\n",
    "elif age < 20:\n",
    "    print(\"You are a teenager.\")\n",
    "elif age < 65:\n",
    "    print(\"You are an adult.\")\n",
    "else:\n",
    "    print(\"You are a senior citizen.\")"
   ]
  },
  {
   "cell_type": "code",
   "execution_count": 10,
   "id": "5c5e0e69",
   "metadata": {},
   "outputs": [
    {
     "name": "stdout",
     "output_type": "stream",
     "text": [
      "The number is zero or negative.\n"
     ]
    }
   ],
   "source": [
    "## Nested Conditional Statements\n",
    "# You can nest if statements inside other if statements to create more complex conditions.\n",
    "\n",
    "##  number , you should check if it is positive, negative, or even or odd.\n",
    "\n",
    "num=int(input(\"Enter a number: \"))\n",
    "if num>=0:\n",
    "    print(\"The number is positive.\")\n",
    "    if num % 2 == 0:\n",
    "        print(\"The number is even.\")\n",
    "    else:\n",
    "        print(\"The number is odd.\")\n",
    "else:\n",
    "    print(\"The number is zero or negative.\")\n",
    "      "
   ]
  },
  {
   "cell_type": "code",
   "execution_count": 16,
   "id": "2240ced3",
   "metadata": {},
   "outputs": [
    {
     "name": "stdout",
     "output_type": "stream",
     "text": [
      "2024 is a leap year.\n"
     ]
    }
   ],
   "source": [
    "\n",
    "## Use Cases - Practical Examples\n",
    "# 1. Determine if a year is a leap year. using nested conditional statements.\n",
    "year = int(input(\"Enter a year: \"))\n",
    "\n",
    "if(year % 4 == 0):\n",
    "    if(year % 100 == 0):\n",
    "        if(year % 400 == 0):\n",
    "            print(f\"{year} is a leap year.\")\n",
    "        else:\n",
    "            print(f\"{year} is not a leap year.\")\n",
    "    else:\n",
    "        print(f\"{year} is a leap year.\")\n",
    "else:\n",
    "    print(f\"{year} is not a leap year.\")"
   ]
  },
  {
   "cell_type": "code",
   "execution_count": null,
   "id": "bc84587a",
   "metadata": {},
   "outputs": [
    {
     "name": "stdout",
     "output_type": "stream",
     "text": [
      "The result of division 98.0 / 25.0 is: 3.92\n"
     ]
    }
   ],
   "source": [
    "## Assignment 1\n",
    "# Simple Calculator - get input from the user for two numbers and an operator (+, -, *, /) \n",
    "# and perform the corresponding operation using if, elif, and else statements.\n",
    "\n",
    "num1 = float(input(\"Enter the first number: \"))\n",
    "num2 = float(input(\"Enter the second number: \"))\n",
    "operator = input(\"Enter an operator (+, -, *, /): \")\n",
    "\n",
    "if operator == '+':\n",
    "    result = num1 + num2\n",
    "    print(f\"The result of addition {num1} + {num2} is: {result}\")\n",
    "elif operator == '-':\n",
    "    result = num1 - num2\n",
    "    print(f\"The result of subtraction {num1} - {num2} is: {result}\")\n",
    "elif operator == '*':\n",
    "    result = num1 * num2\n",
    "    print(f\"The result of multiplication {num1} * {num2} is: {result}\")\n",
    "elif operator == '/':\n",
    "    if num2 != 0:\n",
    "        result = num1 / num2\n",
    "        print(f\"The result of division {num1} / {num2} is: {result}\")\n",
    "    else:\n",
    "        print(\"Error: Division by zero is not allowed.\")\n",
    "else:\n",
    "    print(\"Error: Invalid operator. Please use +, -, *, or /.\")"
   ]
  },
  {
   "cell_type": "code",
   "execution_count": null,
   "id": "37c1ac3d",
   "metadata": {},
   "outputs": [
    {
     "name": "stdout",
     "output_type": "stream",
     "text": [
      "The ticket price is: $7.00\n"
     ]
    }
   ],
   "source": [
    "## Assignment 2\n",
    "## Determine Ticket Price - Write a program that determines the ticket price based on age.\n",
    "\n",
    "age = int(input(\"Enter your age: \"))\n",
    "is_student = input(\"Are you a student? (yes/no): \").strip().lower() == 'yes'\n",
    "\n",
    "\n",
    "if age < 3:\n",
    "    ticket_price = 0.0\n",
    "elif age < 13:\n",
    "    ticket_price = 5.0\n",
    "elif age < 17:\n",
    "    if is_student:\n",
    "        ticket_price = 7.0\n",
    "    else:\n",
    "        ticket_price = 8.0\n",
    "elif age < 30:\n",
    "    ticket_price = 12.0            \n",
    "elif age < 60:\n",
    "    ticket_price = 10.0\n",
    "\n",
    "print(f\"The ticket price is: ${ticket_price:.2f}\")    "
   ]
  },
  {
   "cell_type": "code",
   "execution_count": null,
   "id": "61f002e9",
   "metadata": {},
   "outputs": [],
   "source": []
  }
 ],
 "metadata": {
  "kernelspec": {
   "display_name": "Python 3",
   "language": "python",
   "name": "python3"
  },
  "language_info": {
   "codemirror_mode": {
    "name": "ipython",
    "version": 3
   },
   "file_extension": ".py",
   "mimetype": "text/x-python",
   "name": "python",
   "nbconvert_exporter": "python",
   "pygments_lexer": "ipython3",
   "version": "3.12.9"
  }
 },
 "nbformat": 4,
 "nbformat_minor": 5
}
