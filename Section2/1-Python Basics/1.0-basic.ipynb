{
 "cells": [
  {
   "cell_type": "markdown",
   "id": "1e9642be",
   "metadata": {},
   "source": [
    "Outline:"
   ]
  },
  {
   "cell_type": "markdown",
   "id": "1daa891f",
   "metadata": {},
   "source": [
    ". Single line Comments and Multiline comments \n",
    ". Definition of Syntax and Semantics\n",
    ". Basic Syntax Rules in Python\n",
    ". Understanding Semantics in Python\n",
    ". Common syntax errors and how to avoid them\n",
    ". Practical code example\n",
    "\n",
    "Syntax refers to the set of rules that defines the combinations of symbols that are Considered to be correctly structured programs in a language. In simpler terms, syntax is about the correct arrangement of words and synbols in a code"
   ]
  },
  {
   "cell_type": "markdown",
   "id": "cb2ad357",
   "metadata": {},
   "source": [
    "Semantics refers to the meanng or the interpretation of the sumbols, charaacters, and commands in a language. it it about what the code is supposed to do when it runs"
   ]
  },
  {
   "cell_type": "code",
   "execution_count": null,
   "id": "cf75c79e",
   "metadata": {},
   "outputs": [
    {
     "name": "stdout",
     "output_type": "stream",
     "text": [
      "surendhar\n",
      "balakrishnan\n"
     ]
    }
   ],
   "source": [
    "## Basic syntax rules in Python\n",
    "## case sensitivity - Python is case sensitive\n",
    "\n",
    "## variable names are case sensitive - here 'name' and 'Name' are different variables\n",
    "## variable names should not start with a number\n",
    "## variable names should start with a letter or underscore\n",
    "\n",
    "name=\"surendhar\"\n",
    "Name=\"balakrishnan\"\n",
    "\n",
    "print(name)\n",
    "print(Name)\n",
    "\n",
    "\n"
   ]
  },
  {
   "cell_type": "markdown",
   "id": "c086ddd5",
   "metadata": {},
   "source": [
    "Indentation\n"
   ]
  },
  {
   "cell_type": "markdown",
   "id": "f3941063",
   "metadata": {},
   "source": [
    "Indentation in python is used to define the structure and hierarchy of the code. unlike many other programming languages that use braces {} to delimit blocks of code,Python uses indentation to determine the grouping of statements. This means that all the statements within a block must be indented at the same level"
   ]
  },
  {
   "cell_type": "code",
   "execution_count": 6,
   "id": "54fb68d1",
   "metadata": {},
   "outputs": [
    {
     "name": "stdout",
     "output_type": "stream",
     "text": [
      "You are an adult\n",
      "This is outside the if block\n"
     ]
    }
   ],
   "source": [
    "## Indentation\n",
    "## Python uses indentation to define the scope of the code\n",
    "## Indentation is used to define the block of code. consistent use of spaces (commonly 4) or a tab is required.\n",
    "\n",
    "age= 25\n",
    "if age > 18:\n",
    "    print(\"You are an adult\")\n",
    "\n",
    "print(\"This is outside the if block\")\n"
   ]
  },
  {
   "cell_type": "code",
   "execution_count": 7,
   "id": "42b34133",
   "metadata": {},
   "outputs": [
    {
     "name": "stdout",
     "output_type": "stream",
     "text": [
      "Hello World\n"
     ]
    }
   ],
   "source": [
    "## Single line comments\n",
    "print(\"Hello World\") # This is a single line comment"
   ]
  },
  {
   "cell_type": "code",
   "execution_count": null,
   "id": "686ca296",
   "metadata": {},
   "outputs": [
    {
     "name": "stdout",
     "output_type": "stream",
     "text": [
      "55\n"
     ]
    }
   ],
   "source": [
    "## Line Continuation\n",
    "## Python allows you to use a backslash (\\) to continue a line of code onto the next line\n",
    "\n",
    "total = 1 + 2 + 3 + \\\n",
    "        4 + 5 + 6 + \\\n",
    "        7 + 8 + 9 + \\\n",
    "        10\n",
    "\n",
    "print(total)"
   ]
  },
  {
   "cell_type": "code",
   "execution_count": 9,
   "id": "8a223003",
   "metadata": {},
   "outputs": [
    {
     "name": "stdout",
     "output_type": "stream",
     "text": [
      "1 2 3 6\n"
     ]
    }
   ],
   "source": [
    "## Multiple statements on a single line\n",
    "\n",
    "x = 1; y = 2; z = 3 ; a = x + y + z\n",
    "print(x, y, z, a)"
   ]
  },
  {
   "cell_type": "code",
   "execution_count": 10,
   "id": "7e2f6422",
   "metadata": {},
   "outputs": [
    {
     "name": "stdout",
     "output_type": "stream",
     "text": [
      "<class 'int'>\n",
      "<class 'str'>\n",
      "<class 'bool'>\n",
      "<class 'float'>\n"
     ]
    }
   ],
   "source": [
    "## Understanding Semantics in Python\n",
    "## Semantics refers to the meaning of the code\n",
    "## Python is a dynamically typed language, meaning that you don't need to declare the type of a variable when you create it.\n",
    "## The type is determined at runtime based on the value assigned to the variable.\n",
    "\n",
    "age = 25 ## integer\n",
    "name = \"John\" ## string\n",
    "is_student = True ## boolean\n",
    "height = 5.9 ## float\n",
    "print(type(age)) ## <class 'int'>\n",
    "print(type(name)) ## <class 'str'>\n",
    "print(type(is_student)) ## <class 'bool'>\n",
    "print(type(height)) ## <class 'float'>\n"
   ]
  },
  {
   "cell_type": "code",
   "execution_count": 11,
   "id": "3142e7a7",
   "metadata": {},
   "outputs": [
    {
     "name": "stdout",
     "output_type": "stream",
     "text": [
      "<class 'int'>\n",
      "<class 'str'>\n",
      "<class 'float'>\n",
      "<class 'bool'>\n"
     ]
    }
   ],
   "source": [
    "## Type Inference\n",
    "## Python automatically infers the type of a variable based on the value assigned to it.\n",
    "## You can also explicitly convert between types using built-in functions like int(), float(), str(), etc.\n",
    "variable = 25\n",
    "print(type(variable)) ## <class 'int'>\n",
    "variable = \"25\"\n",
    "print(type(variable)) ## <class 'str'>\n",
    "variable = 25.0\n",
    "print(type(variable)) ## <class 'float'>\n",
    "variable = True\n",
    "print(type(variable)) ## <class 'bool'>\n",
    "\n",
    "## Python is dynamically typed, meaning you can change the type of a variable at runtime.\n",
    "## However, it's important to be cautious when changing types, as it can lead to unexpected behavior."
   ]
  },
  {
   "cell_type": "code",
   "execution_count": 12,
   "id": "01179631",
   "metadata": {},
   "outputs": [
    {
     "ename": "IndentationError",
     "evalue": "expected an indented block after 'if' statement on line 4 (2073199405.py, line 5)",
     "output_type": "error",
     "traceback": [
      "  \u001b[36mCell\u001b[39m\u001b[36m \u001b[39m\u001b[32mIn[12]\u001b[39m\u001b[32m, line 5\u001b[39m\n\u001b[31m    \u001b[39m\u001b[31mprint(\"You are an adult\") ## This will raise an IndentationError\u001b[39m\n    ^\n\u001b[31mIndentationError\u001b[39m\u001b[31m:\u001b[39m expected an indented block after 'if' statement on line 4\n"
     ]
    }
   ],
   "source": [
    "## Indentation error\n",
    "\n",
    "age = 25\n",
    "if age > 18:\n",
    "print(\"You are an adult\") ## This will raise an IndentationError\n",
    "## To fix the error, you need to indent the print statement properly"
   ]
  },
  {
   "cell_type": "code",
   "execution_count": 13,
   "id": "ac041494",
   "metadata": {},
   "outputs": [
    {
     "ename": "NameError",
     "evalue": "name 'b' is not defined",
     "output_type": "error",
     "traceback": [
      "\u001b[31m---------------------------------------------------------------------------\u001b[39m",
      "\u001b[31mNameError\u001b[39m                                 Traceback (most recent call last)",
      "\u001b[36mCell\u001b[39m\u001b[36m \u001b[39m\u001b[32mIn[13]\u001b[39m\u001b[32m, line 5\u001b[39m\n\u001b[32m      1\u001b[39m \u001b[38;5;66;03m## Name Error\u001b[39;00m\n\u001b[32m      2\u001b[39m \n\u001b[32m      3\u001b[39m \u001b[38;5;66;03m## A NameError occurs when you try to use a variable that has not been defined or is out of scope.\u001b[39;00m\n\u001b[32m      4\u001b[39m \u001b[38;5;66;03m## For example:\u001b[39;00m\n\u001b[32m----> \u001b[39m\u001b[32m5\u001b[39m a=\u001b[43mb\u001b[49m\n",
      "\u001b[31mNameError\u001b[39m: name 'b' is not defined"
     ]
    }
   ],
   "source": [
    "## Name Error\n",
    "\n",
    "## A NameError occurs when you try to use a variable that has not been defined or is out of scope.\n",
    "## For example:\n",
    "a=b"
   ]
  },
  {
   "cell_type": "code",
   "execution_count": 15,
   "id": "b8dd7f22",
   "metadata": {},
   "outputs": [
    {
     "name": "stdout",
     "output_type": "stream",
     "text": [
      "Correct Indentation\n",
      "This is outside the inner if block\n",
      "This is outside the outer if block\n"
     ]
    }
   ],
   "source": [
    "## Code Example of Indentation\n",
    "\n",
    "if True:\n",
    "    print(\"Correct Indentation\")\n",
    "    if False:\n",
    "        print(\"This will not print\")\n",
    "    print(\"This is outside the inner if block\")\n",
    "print(\"This is outside the outer if block\")    \n"
   ]
  }
 ],
 "metadata": {
  "kernelspec": {
   "display_name": "Python 3",
   "language": "python",
   "name": "python3"
  },
  "language_info": {
   "codemirror_mode": {
    "name": "ipython",
    "version": 3
   },
   "file_extension": ".py",
   "mimetype": "text/x-python",
   "name": "python",
   "nbconvert_exporter": "python",
   "pygments_lexer": "ipython3",
   "version": "3.12.9"
  }
 },
 "nbformat": 4,
 "nbformat_minor": 5
}
