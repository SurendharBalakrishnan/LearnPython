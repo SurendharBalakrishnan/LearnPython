{
 "cells": [
  {
   "cell_type": "markdown",
   "id": "7413201f",
   "metadata": {},
   "source": [
    "### Variables\n",
    "Variables are fundamental elements in programming used to store data that can be referenced and manipulated in a program. In Python, variables are created when you assign a value to them, and they do not need explicit declaration to reserve memory space. The declaration happens automatically when you assign a value to a variable.\n",
    "\n",
    "Video Outline:\n",
    "- Introduction to Variables\n",
    "- Declaring and Assigning Variables\n",
    "- Naming Conventions\n",
    "- Understanding Variable Types\n",
    "- Type Checking and Conversion\n",
    "- Dynamic Typing\n",
    "- Practical Examples and Common Errors"
   ]
  },
  {
   "cell_type": "code",
   "execution_count": 2,
   "id": "84f1c207",
   "metadata": {},
   "outputs": [],
   "source": [
    "a = 100"
   ]
  },
  {
   "cell_type": "code",
   "execution_count": 3,
   "id": "2d9a18e5",
   "metadata": {},
   "outputs": [
    {
     "name": "stdout",
     "output_type": "stream",
     "text": [
      "Age: 31\n",
      "Height: 5.9\n",
      "Weight: 79\n",
      "Name: Surendhar\n",
      "Is Student: True\n"
     ]
    }
   ],
   "source": [
    "## Declaring and assigning Variables\n",
    "\n",
    "age = 31\n",
    "height = 5.9\n",
    "weight = 79\n",
    "name = \"Surendhar\"\n",
    "is_student = True\n",
    "\n",
    "## Printing Variables\n",
    "print(\"Age:\", age)\n",
    "print(\"Height:\", height)\n",
    "print(\"Weight:\", weight)\n",
    "print(\"Name:\", name)\n",
    "print(\"Is Student:\", is_student)"
   ]
  },
  {
   "cell_type": "code",
   "execution_count": 4,
   "id": "f8d079aa",
   "metadata": {},
   "outputs": [
    {
     "name": "stdout",
     "output_type": "stream",
     "text": [
      "Surendhar\n",
      "Krishnan\n"
     ]
    }
   ],
   "source": [
    "## Naming Conventions\n",
    "## Variable name should be descriptive\n",
    "## They must start with a letter or an '_' and contains letter, numbers and '_'\n",
    "## They are case sensitive\n",
    "\n",
    "## valild variable names\n",
    "\n",
    "first_name = \"Surendhar\"\n",
    "last_name = \"Krishnan\"\n",
    "\n",
    "print(first_name)\n",
    "print(last_name)"
   ]
  },
  {
   "cell_type": "code",
   "execution_count": 6,
   "id": "cab4b873",
   "metadata": {},
   "outputs": [
    {
     "ename": "SyntaxError",
     "evalue": "invalid syntax. Maybe you meant '==' or ':=' instead of '='? (3909116794.py, line 5)",
     "output_type": "error",
     "traceback": [
      "  \u001b[36mCell\u001b[39m\u001b[36m \u001b[39m\u001b[32mIn[6]\u001b[39m\u001b[32m, line 5\u001b[39m\n\u001b[31m    \u001b[39m\u001b[31m@name = \"Krishnan\"\u001b[39m\n     ^\n\u001b[31mSyntaxError\u001b[39m\u001b[31m:\u001b[39m invalid syntax. Maybe you meant '==' or ':=' instead of '='?\n"
     ]
    }
   ],
   "source": [
    "# Invalid variable names\n",
    "\n",
    "#2age=30\n",
    "#first-name = \"Surendhar\"\n",
    "@name = \"Krishnan\""
   ]
  },
  {
   "cell_type": "code",
   "execution_count": 7,
   "id": "32b83e11",
   "metadata": {},
   "outputs": [
    {
     "name": "stdout",
     "output_type": "stream",
     "text": [
      "Surendhar\n",
      "Krishnan\n"
     ]
    }
   ],
   "source": [
    "## case sensitive \n",
    "\n",
    "name = \"Surendhar\"\n",
    "NAME = \"Krishnan\"\n",
    "print(name)\n",
    "print(NAME)"
   ]
  },
  {
   "cell_type": "code",
   "execution_count": 8,
   "id": "eba70d01",
   "metadata": {},
   "outputs": [
    {
     "name": "stdout",
     "output_type": "stream",
     "text": [
      "<class 'int'>\n",
      "<class 'float'>\n",
      "<class 'str'>\n",
      "<class 'bool'>\n"
     ]
    }
   ],
   "source": [
    "## understanding variable types\n",
    "## Python is dynamically typed language, types of a variable is determined at runtime\n",
    "## Python has 4 built-in data types\n",
    "## 1. Numeric\n",
    "## 2. String\n",
    "## 3. List\n",
    "## 4. Dictionary\n",
    "\n",
    "age = 31\n",
    "height = 5.9\n",
    "name = \"Surendhar\"\n",
    "is_student = True\n",
    "print(type(age)) # <class 'int'>\n",
    "print(type(height)) # <class 'float'>\n",
    "print(type(name)) # <class 'str'>\n",
    "print(type(is_student)) # <class 'bool'>\n"
   ]
  },
  {
   "cell_type": "code",
   "execution_count": 9,
   "id": "c8d80b92",
   "metadata": {},
   "outputs": [
    {
     "data": {
      "text/plain": [
       "float"
      ]
     },
     "execution_count": 9,
     "metadata": {},
     "output_type": "execute_result"
    }
   ],
   "source": [
    "## Type checking and Converstion\n",
    "\n",
    "type(height)"
   ]
  },
  {
   "cell_type": "code",
   "execution_count": 10,
   "id": "c342968c",
   "metadata": {},
   "outputs": [
    {
     "name": "stdout",
     "output_type": "stream",
     "text": [
      "<class 'int'>\n",
      "<class 'str'>\n"
     ]
    }
   ],
   "source": [
    "## Type conversion\n",
    "\n",
    "age = 25\n",
    "print(type(age)) # <class 'int'>\n",
    "\n",
    "age_str = str(age)\n",
    "print(type(age_str)) # <class 'str'>"
   ]
  },
  {
   "cell_type": "code",
   "execution_count": null,
   "id": "1f180dea",
   "metadata": {},
   "outputs": [
    {
     "ename": "ValueError",
     "evalue": "invalid literal for int() with base 10: 'Surendhar'",
     "output_type": "error",
     "traceback": [
      "\u001b[31m---------------------------------------------------------------------------\u001b[39m",
      "\u001b[31mValueError\u001b[39m                                Traceback (most recent call last)",
      "\u001b[36mCell\u001b[39m\u001b[36m \u001b[39m\u001b[32mIn[12]\u001b[39m\u001b[32m, line 4\u001b[39m\n\u001b[32m      1\u001b[39m \u001b[38;5;66;03m## convert string to int error handeling\u001b[39;00m\n\u001b[32m      3\u001b[39m name = \u001b[33m\"\u001b[39m\u001b[33mSurendhar\u001b[39m\u001b[33m\"\u001b[39m\n\u001b[32m----> \u001b[39m\u001b[32m4\u001b[39m \u001b[38;5;28;43mint\u001b[39;49m\u001b[43m(\u001b[49m\u001b[43mname\u001b[49m\u001b[43m)\u001b[49m \u001b[38;5;66;03m# ValueError: invalid literal for int() with base 10: 'Surendhar'\u001b[39;00m\n\u001b[32m      5\u001b[39m \u001b[38;5;66;03m## convert string to int error handeling\u001b[39;00m\n",
      "\u001b[31mValueError\u001b[39m: invalid literal for int() with base 10: 'Surendhar'"
     ]
    }
   ],
   "source": [
    "## convert string to int error \n",
    "\n",
    "name = \"Surendhar\"\n",
    "int(name) # ValueError: invalid literal for int() with base 10: 'Surendhar'\n",
    "## convert string to int error handeling"
   ]
  },
  {
   "cell_type": "code",
   "execution_count": 11,
   "id": "2aef98dd",
   "metadata": {},
   "outputs": [
    {
     "name": "stdout",
     "output_type": "stream",
     "text": [
      "<class 'int'>\n",
      "<class 'float'>\n",
      "<class 'int'>\n"
     ]
    }
   ],
   "source": [
    "## convert string to int\n",
    "age_str = \"25\"\n",
    "age = int(age_str)\n",
    "print(type(age)) # <class 'int'>\n",
    "## convert string to float\n",
    "age_str = \"25.5\"\n",
    "age = float(age_str)\n",
    "print(type(age)) # <class 'float'>\n",
    "## convert float to int\n",
    "age = 25.5\n",
    "age_int = int(age)\n",
    "print(type(age_int)) # <class 'int'>"
   ]
  },
  {
   "cell_type": "code",
   "execution_count": 13,
   "id": "b6dfc164",
   "metadata": {},
   "outputs": [
    {
     "data": {
      "text/plain": [
       "5.0"
      ]
     },
     "execution_count": 13,
     "metadata": {},
     "output_type": "execute_result"
    }
   ],
   "source": [
    "## float to int\n",
    "\n",
    "height = 5.9\n",
    "type(height) # <class 'float'>\n",
    "float(int(height))"
   ]
  },
  {
   "cell_type": "code",
   "execution_count": 16,
   "id": "2abdbf3b",
   "metadata": {},
   "outputs": [
    {
     "name": "stdout",
     "output_type": "stream",
     "text": [
      "10 <class 'int'>\n",
      "Hello <class 'str'>\n",
      "10.5 <class 'float'>\n",
      "True <class 'bool'>\n"
     ]
    }
   ],
   "source": [
    "## Dynamic typing\n",
    "## python allows you to change the type of a variable at runtime (or) Python allows you to change as the program executes\n",
    "var = 10\n",
    "print( var , type(var))\n",
    "\n",
    "var = \"Hello\"\n",
    "print( var , type(var))\n",
    "var = 10.5\n",
    "print( var , type(var))\n",
    "var = True\n",
    "print( var , type(var))\n",
    "\n",
    "\n"
   ]
  },
  {
   "cell_type": "code",
   "execution_count": 18,
   "id": "941a21d4",
   "metadata": {},
   "outputs": [
    {
     "name": "stdout",
     "output_type": "stream",
     "text": [
      "Your age is: 32\n",
      "<class 'int'>\n"
     ]
    }
   ],
   "source": [
    "## input() function\n",
    "\n",
    "# age = input(\"Enter your age: \")\n",
    "# print(\"Your age is:\", age)\n",
    "# print(type(age)) # <class 'str'>\n",
    "\n",
    "age = int(input(\"Enter your age: \"))\n",
    "print(\"Your age is:\", age)\n",
    "print(type(age)) # <class 'int'>"
   ]
  },
  {
   "cell_type": "code",
   "execution_count": 1,
   "id": "140aa38a",
   "metadata": {},
   "outputs": [
    {
     "name": "stdout",
     "output_type": "stream",
     "text": [
      "Sum: 9.0\n",
      "Difference: -7.0\n",
      "Product: 8.0\n",
      "Quotient: 0.125\n"
     ]
    }
   ],
   "source": [
    "### Simple calculator\n",
    "\n",
    "num1 = float(input(\"Enter your first number: \"))\n",
    "num2 = float(input(\"Enter your second number: \"))\n",
    "\n",
    "sum = num1 + num2\n",
    "difference = num1 - num2\n",
    "product = num1 * num2\n",
    "quotient = num1 / num2\n",
    "\n",
    "print(\"Sum:\", sum)\n",
    "print(\"Difference:\", difference)\n",
    "print(\"Product:\", product)\n",
    "print(\"Quotient:\", quotient)"
   ]
  }
 ],
 "metadata": {
  "kernelspec": {
   "display_name": "Python 3",
   "language": "python",
   "name": "python3"
  },
  "language_info": {
   "codemirror_mode": {
    "name": "ipython",
    "version": 3
   },
   "file_extension": ".py",
   "mimetype": "text/x-python",
   "name": "python",
   "nbconvert_exporter": "python",
   "pygments_lexer": "ipython3",
   "version": "3.12.9"
  }
 },
 "nbformat": 4,
 "nbformat_minor": 5
}
