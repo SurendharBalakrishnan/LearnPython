{
 "cells": [
  {
   "cell_type": "markdown",
   "id": "8e1cd88b",
   "metadata": {},
   "source": [
    "Python Exmaple"
   ]
  },
  {
   "cell_type": "code",
   "execution_count": 1,
   "id": "1f1ee8c3",
   "metadata": {},
   "outputs": [
    {
     "name": "stdout",
     "output_type": "stream",
     "text": [
      "10\n"
     ]
    }
   ],
   "source": [
    "print(1+9)\n"
   ]
  },
  {
   "cell_type": "code",
   "execution_count": 2,
   "id": "9b95bd0a",
   "metadata": {},
   "outputs": [
    {
     "name": "stdout",
     "output_type": "stream",
     "text": [
      "Hello, World!\n"
     ]
    }
   ],
   "source": [
    "print(\"Hello, World!\")"
   ]
  }
 ],
 "metadata": {
  "kernelspec": {
   "display_name": "Python 3",
   "language": "python",
   "name": "python3"
  },
  "language_info": {
   "codemirror_mode": {
    "name": "ipython",
    "version": 3
   },
   "file_extension": ".py",
   "mimetype": "text/x-python",
   "name": "python",
   "nbconvert_exporter": "python",
   "pygments_lexer": "ipython3",
   "version": "3.12.9"
  }
 },
 "nbformat": 4,
 "nbformat_minor": 5
}
