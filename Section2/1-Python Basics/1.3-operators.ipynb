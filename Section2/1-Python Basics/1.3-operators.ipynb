{
 "cells": [
  {
   "cell_type": "code",
   "execution_count": 6,
   "id": "0d50b35c",
   "metadata": {},
   "outputs": [
    {
     "name": "stdout",
     "output_type": "stream",
     "text": [
      "{'addition': 31, 'subtraction': -9, 'multiplication': 220, 'division': 0.55, 'floor_division': 0, 'modulus_operation': 11, 'exponentiation': 672749994932560009201}\n"
     ]
    }
   ],
   "source": [
    "## Arithmetic operations on integers\n",
    "a=11\n",
    "b=20\n",
    "add_result = a + b\n",
    "sub_result = a -b\n",
    "mul_result = a * b\n",
    "div_result = a / b\n",
    "floor_div_result = a // b\n",
    "modulus_result = a % b\n",
    "exponent_result = a ** b # Exponentiation is not included in the result dictionary as per the request , a to the power of b\n",
    "result = {\n",
    "    \"addition\": add_result,\n",
    "    \"subtraction\": sub_result,\n",
    "    \"multiplication\": mul_result,\n",
    "    \"division\": div_result,\n",
    "    \"floor_division\": floor_div_result,\n",
    "    \"modulus_operation\": modulus_result,\n",
    "    \"exponentiation\": exponent_result\n",
    "\n",
    "}\n",
    "print(result)"
   ]
  },
  {
   "cell_type": "code",
   "execution_count": 7,
   "id": "46765e6f",
   "metadata": {},
   "outputs": [
    {
     "data": {
      "text/plain": [
       "2.0"
      ]
     },
     "execution_count": 7,
     "metadata": {},
     "output_type": "execute_result"
    }
   ],
   "source": [
    "10/5"
   ]
  },
  {
   "cell_type": "code",
   "execution_count": 8,
   "id": "067415a3",
   "metadata": {},
   "outputs": [
    {
     "data": {
      "text/plain": [
       "4.2"
      ]
     },
     "execution_count": 8,
     "metadata": {},
     "output_type": "execute_result"
    }
   ],
   "source": [
    "21/5"
   ]
  },
  {
   "cell_type": "code",
   "execution_count": 9,
   "id": "acbf7f5d",
   "metadata": {},
   "outputs": [
    {
     "data": {
      "text/plain": [
       "4"
      ]
     },
     "execution_count": 9,
     "metadata": {},
     "output_type": "execute_result"
    }
   ],
   "source": [
    "21//5"
   ]
  },
  {
   "cell_type": "code",
   "execution_count": 13,
   "id": "0b6ece22",
   "metadata": {},
   "outputs": [
    {
     "data": {
      "text/plain": [
       "True"
      ]
     },
     "execution_count": 13,
     "metadata": {},
     "output_type": "execute_result"
    }
   ],
   "source": [
    "## Comparison operators\n",
    "## ==\n",
    "a=10\n",
    "b=10\n",
    "\n",
    "a==b"
   ]
  },
  {
   "cell_type": "code",
   "execution_count": 17,
   "id": "453134bb",
   "metadata": {},
   "outputs": [
    {
     "data": {
      "text/plain": [
       "True"
      ]
     },
     "execution_count": 17,
     "metadata": {},
     "output_type": "execute_result"
    }
   ],
   "source": [
    "str1=\"Krishnan\"\n",
    "str2=\"Krishnan\"\n",
    "# str2=\"krishnan\" // It will return false as the case is different case sensitive\n",
    "str1==str2"
   ]
  },
  {
   "cell_type": "code",
   "execution_count": 18,
   "id": "40b3c1a0",
   "metadata": {},
   "outputs": [
    {
     "data": {
      "text/plain": [
       "False"
      ]
     },
     "execution_count": 18,
     "metadata": {},
     "output_type": "execute_result"
    }
   ],
   "source": [
    "## Not Qual To\n",
    "\n",
    "str1 != str2"
   ]
  },
  {
   "cell_type": "code",
   "execution_count": 19,
   "id": "3c9de63c",
   "metadata": {},
   "outputs": [
    {
     "data": {
      "text/plain": [
       "True"
      ]
     },
     "execution_count": 19,
     "metadata": {},
     "output_type": "execute_result"
    }
   ],
   "source": [
    "str3=\"krishnan\"\n",
    "str4=\"Krishnan\"\n",
    "str3 != str4"
   ]
  },
  {
   "cell_type": "code",
   "execution_count": 24,
   "id": "d68e4c83",
   "metadata": {},
   "outputs": [
    {
     "name": "stdout",
     "output_type": "stream",
     "text": [
      "False\n"
     ]
    },
    {
     "data": {
      "text/plain": [
       "True"
      ]
     },
     "execution_count": 24,
     "metadata": {},
     "output_type": "execute_result"
    }
   ],
   "source": [
    "# Greater than\n",
    "a = 10\n",
    "b = 20\n",
    "\n",
    "a > b\n",
    "print(a > b)  # This will print False\n",
    "a = 20\n",
    "b = 10\n",
    "\n",
    "a > b"
   ]
  },
  {
   "cell_type": "code",
   "execution_count": 25,
   "id": "66382951",
   "metadata": {},
   "outputs": [
    {
     "name": "stdout",
     "output_type": "stream",
     "text": [
      "False\n"
     ]
    }
   ],
   "source": [
    "#Less than\n",
    "print(a < b)\n"
   ]
  },
  {
   "cell_type": "code",
   "execution_count": 27,
   "id": "a224bab8",
   "metadata": {},
   "outputs": [
    {
     "name": "stdout",
     "output_type": "stream",
     "text": [
      "False\n",
      "True\n"
     ]
    }
   ],
   "source": [
    "# greater than or equal to\n",
    "number1 = 44\n",
    "number2 = 45\n",
    "print(number1 >= number2)  # This will print True\n",
    "# less than or equal to\n",
    "number1 = 45\n",
    "number2 = 50\n",
    "print(number1 <= number2)  # This will print True"
   ]
  },
  {
   "cell_type": "markdown",
   "id": "1b2a6dc0",
   "metadata": {},
   "source": [
    "### Logical Operators\n"
   ]
  },
  {
   "cell_type": "code",
   "execution_count": null,
   "id": "25d9be10",
   "metadata": {},
   "outputs": [
    {
     "name": "stdout",
     "output_type": "stream",
     "text": [
      "True\n",
      "False\n"
     ]
    }
   ],
   "source": [
    "## AND, NOT, OR operators\n",
    "\n",
    "# in the case of and Operation, both the values should be true to return true\n",
    "\n",
    "X= True\n",
    "Y= True\n",
    "result = X and Y\n",
    "print(result)\n",
    "\n",
    "X= True\n",
    "Y= False\n",
    "result = X and Y\n",
    "print(result)"
   ]
  },
  {
   "cell_type": "code",
   "execution_count": 32,
   "id": "7421cbdb",
   "metadata": {},
   "outputs": [
    {
     "name": "stdout",
     "output_type": "stream",
     "text": [
      "True\n",
      "False\n"
     ]
    }
   ],
   "source": [
    "# OR operator, if any one of the value is true it will return true\n",
    "X = True\n",
    "Y = False\n",
    "result = X or Y\n",
    "print(result)\n",
    "\n",
    "# false or false will return false\n",
    "X = False\n",
    "Y = False\n",
    "result = X or Y\n",
    "print(result)"
   ]
  },
  {
   "cell_type": "code",
   "execution_count": 34,
   "id": "cf036ca6",
   "metadata": {},
   "outputs": [
    {
     "name": "stdout",
     "output_type": "stream",
     "text": [
      "False\n",
      "True\n"
     ]
    }
   ],
   "source": [
    "# NOT operator, it will return the opposite value (It inverses the boolean value)\n",
    "X = True\n",
    "not_result = not X\n",
    "print(not_result)  # This will print False\n",
    "\n",
    "Y = False\n",
    "not_result = not Y\n",
    "print(not_result)  # This will print True"
   ]
  },
  {
   "cell_type": "code",
   "execution_count": null,
   "id": "e6950eaf",
   "metadata": {},
   "outputs": [],
   "source": []
  }
 ],
 "metadata": {
  "kernelspec": {
   "display_name": "Python 3",
   "language": "python",
   "name": "python3"
  },
  "language_info": {
   "codemirror_mode": {
    "name": "ipython",
    "version": 3
   },
   "file_extension": ".py",
   "mimetype": "text/x-python",
   "name": "python",
   "nbconvert_exporter": "python",
   "pygments_lexer": "ipython3",
   "version": "3.12.9"
  }
 },
 "nbformat": 4,
 "nbformat_minor": 5
}
